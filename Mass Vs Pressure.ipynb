{
 "cells": [
  {
   "cell_type": "markdown",
   "metadata": {},
   "source": [
    "Calculating Mass of atmosphere.\n"
   ]
  },
  {
   "cell_type": "code",
   "execution_count": 2,
   "metadata": {
    "scrolled": true
   },
   "outputs": [
    {
     "data": {
      "text/plain": [
       "5.12140102299443e+18"
      ]
     },
     "execution_count": 2,
     "metadata": {},
     "output_type": "execute_result"
    }
   ],
   "source": [
    "#import required libraries\n",
    "\n",
    "import matplotlib.pyplot as plt\n",
    "%matplotlib inline\n",
    "import numpy as np\n",
    "\n",
    "#Define a class\n",
    "class M:\n",
    "    def __init__ (self,g): #where, g=averaged acceleration due to gravity on the Earth\n",
    "        self.g = g\n",
    "    def mass (self,p):     #where, p=Pressure \n",
    "        m= p/self.g\n",
    "        m1=4* (np.pi*(6.37*10**6)**2)*m\n",
    "        return m1\n",
    "#Assigning the value of g\n",
    "x= M(9.807)\n",
    "#Assign the value of pressure\n",
    "x.mass(98500)\n",
    "\n",
    "\n",
    "\n",
    "    \n",
    "    \n",
    "    "
   ]
  },
  {
   "cell_type": "code",
   "execution_count": 6,
   "metadata": {},
   "outputs": [
    {
     "data": {
      "text/plain": [
       "Text(0.5, 1.0, 'Variation of Mass with pressure')"
      ]
     },
     "execution_count": 6,
     "metadata": {},
     "output_type": "execute_result"
    },
    {
     "data": {
      "image/png": "[encoded data removed]",
      "text/plain": [
       "<Figure size 432x288 with 1 Axes>"
      ]
     },
     "metadata": {
      "needs_background": "light"
     },
     "output_type": "display_data"
    }
   ],
   "source": [
    "#Create lists Data, P\n",
    "Data=[]\n",
    "P=[]\n",
    "class M:\n",
    "    def __init__ (self,g):\n",
    "        self.g = g\n",
    "    def mass (self,p):\n",
    "        m= p/self.g\n",
    "        m1=4* (np.pi*(6.37*10**6)**2)*m\n",
    "        return m1\n",
    "x= M(9.807)\n",
    "pp= 98500   #intial value of Pressure\n",
    "\n",
    "for i in range(9): \n",
    "    r= x.mass(pp)\n",
    "    pp= pp/2     #the value of P gets halved in each loop\n",
    "    Data.append(r)\n",
    "    P.append(pp)\n",
    "    \n",
    "#plot the data\n",
    "plt.plot(Data,P)\n",
    "plt.xscale(\"log\")\n",
    "plt.xlabel(xlabel=\"Mass\",fontsize=14,fontstyle='italic',color=\"black\")\n",
    "plt.ylabel(ylabel=\"Pressure\",fontsize=14,fontstyle='italic',color=\"black\")\n",
    "plt.title(label=\"Variation of Mass with pressure\",fontsize=10,color=\"black\")\n",
    "\n",
    "    \n",
    "\n",
    "            \n",
    "            \n"
   ]
  },
  {
   "cell_type": "code",
   "execution_count": null,
   "metadata": {},
   "outputs": [],
   "source": []
  }
 ],
 "metadata": {
  "kernelspec": {
   "display_name": "Python 3",
   "language": "python",
   "name": "python3"
  },
  "language_info": {
   "codemirror_mode": {
    "name": "ipython",
    "version": 3
   },
   "file_extension": ".py",
   "mimetype": "text/x-python",
   "name": "python",
   "nbconvert_exporter": "python",
   "pygments_lexer": "ipython3",
   "version": "3.8.3"
  }
 },
 "nbformat": 4,
 "nbformat_minor": 4
}
